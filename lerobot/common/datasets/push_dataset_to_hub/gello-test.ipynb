{
 "cells": [
  {
   "cell_type": "code",
   "execution_count": 16,
   "metadata": {},
   "outputs": [
    {
     "name": "stdout",
     "output_type": "stream",
     "text": [
      "The autoreload extension is already loaded. To reload it, use:\n",
      "  %reload_ext autoreload\n"
     ]
    }
   ],
   "source": [
    "%load_ext autoreload\n",
    "%autoreload 2"
   ]
  },
  {
   "cell_type": "code",
   "execution_count": 17,
   "metadata": {},
   "outputs": [],
   "source": [
    "from lerobot.common.datasets.push_dataset_to_hub.gello_pkl_format import from_raw_to_lerobot_format\n",
    "from pathlib import Path"
   ]
  },
  {
   "cell_type": "code",
   "execution_count": 20,
   "metadata": {},
   "outputs": [
    {
     "data": {
      "text/plain": [
       "LeRobotDataset(\n",
       "  Repository ID: 'tlpss/planar-push-gello',\n",
       "  Version: 'v1.4',\n",
       "  Split: 'train',\n",
       "  Number of Samples: 153,\n",
       "  Number of Episodes: 1,\n",
       "  Type: image (.png),\n",
       "  Recorded Frames per Second: 10,\n",
       "  Camera Keys: ['observation.images.wrist.rgb', 'observation.images.wrist.depth', 'observation.images.base.rgb', 'observation.images.base.depth'],\n",
       "  Video Frame Keys: N/A,\n",
       "  Transformations: None,\n",
       ")"
      ]
     },
     "execution_count": 20,
     "metadata": {},
     "output_type": "execute_result"
    }
   ],
   "source": [
    "from lerobot.common.datasets.lerobot_dataset import LeRobotDataset\n",
    "\n",
    "LeRobotDataset(\"tlpss/planar-push-gello\",root=\"/home/tlips/Code/lerobot/lerobot/common/datasets\")"
   ]
  }
 ],
 "metadata": {
  "kernelspec": {
   "display_name": "lerobot",
   "language": "python",
   "name": "python3"
  },
  "language_info": {
   "codemirror_mode": {
    "name": "ipython",
    "version": 3
   },
   "file_extension": ".py",
   "mimetype": "text/x-python",
   "name": "python",
   "nbconvert_exporter": "python",
   "pygments_lexer": "ipython3",
   "version": "3.10.14"
  }
 },
 "nbformat": 4,
 "nbformat_minor": 2
}
